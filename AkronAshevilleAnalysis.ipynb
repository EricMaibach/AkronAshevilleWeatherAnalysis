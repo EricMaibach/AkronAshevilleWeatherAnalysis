{
 "cells": [
  {
   "cell_type": "markdown",
   "metadata": {},
   "source": [
    "# Akron, OH - Asheville, NC Weather Analysis"
   ]
  },
  {
   "cell_type": "code",
   "execution_count": 1,
   "metadata": {},
   "outputs": [],
   "source": [
    "import math\n",
    "import pandas as pd\n",
    "import seaborn as sns\n",
    "import matplotlib.pyplot as plt\n",
    "%matplotlib notebook\n"
   ]
  },
  {
   "cell_type": "markdown",
   "metadata": {},
   "source": [
    "## Load CSV data files"
   ]
  },
  {
   "cell_type": "code",
   "execution_count": 2,
   "metadata": {},
   "outputs": [],
   "source": [
    "akron = pd.read_csv(\"AkronWeather.csv\", parse_dates=[\"DATE\"])"
   ]
  },
  {
   "cell_type": "code",
   "execution_count": 3,
   "metadata": {},
   "outputs": [],
   "source": [
    "ash = pd.read_csv(\"AshevilleWeather.csv\", parse_dates=[\"DATE\"])"
   ]
  },
  {
   "cell_type": "markdown",
   "metadata": {},
   "source": [
    "## Change data frames to only include needed fields"
   ]
  },
  {
   "cell_type": "code",
   "execution_count": 4,
   "metadata": {},
   "outputs": [],
   "source": [
    "akron = akron[[\"STATION\", \"DATE\", \"TAVG\"]]"
   ]
  },
  {
   "cell_type": "code",
   "execution_count": 5,
   "metadata": {},
   "outputs": [],
   "source": [
    "ash = ash[[\"STATION\", \"DATE\", \"TAVG\"]]"
   ]
  },
  {
   "cell_type": "markdown",
   "metadata": {},
   "source": [
    "## Analysis of all months"
   ]
  },
  {
   "cell_type": "markdown",
   "metadata": {},
   "source": [
    "### Generate descriptive statistics"
   ]
  },
  {
   "cell_type": "markdown",
   "metadata": {},
   "source": [
    "Akron"
   ]
  },
  {
   "cell_type": "code",
   "execution_count": 6,
   "metadata": {},
   "outputs": [
    {
     "data": {
      "text/plain": [
       "count    1461.000000\n",
       "mean       51.930869\n",
       "std        19.175898\n",
       "min        -6.000000\n",
       "25%        38.000000\n",
       "50%        55.000000\n",
       "75%        69.000000\n",
       "max        83.000000\n",
       "Name: TAVG, dtype: float64"
      ]
     },
     "execution_count": 6,
     "metadata": {},
     "output_type": "execute_result"
    }
   ],
   "source": [
    "akron[\"TAVG\"].describe()"
   ]
  },
  {
   "cell_type": "code",
   "execution_count": 7,
   "metadata": {},
   "outputs": [
    {
     "data": {
      "text/plain": [
       "55.0"
      ]
     },
     "execution_count": 7,
     "metadata": {},
     "output_type": "execute_result"
    }
   ],
   "source": [
    "akron[\"TAVG\"].median()"
   ]
  },
  {
   "cell_type": "markdown",
   "metadata": {},
   "source": [
    "Asheville"
   ]
  },
  {
   "cell_type": "code",
   "execution_count": 8,
   "metadata": {},
   "outputs": [
    {
     "data": {
      "text/plain": [
       "count    1461.000000\n",
       "mean       56.988364\n",
       "std        14.726939\n",
       "min         7.000000\n",
       "25%        46.000000\n",
       "50%        59.000000\n",
       "75%        70.000000\n",
       "max        80.000000\n",
       "Name: TAVG, dtype: float64"
      ]
     },
     "execution_count": 8,
     "metadata": {},
     "output_type": "execute_result"
    }
   ],
   "source": [
    "ash[\"TAVG\"].describe()"
   ]
  },
  {
   "cell_type": "code",
   "execution_count": 9,
   "metadata": {},
   "outputs": [
    {
     "data": {
      "text/plain": [
       "59.0"
      ]
     },
     "execution_count": 9,
     "metadata": {},
     "output_type": "execute_result"
    }
   ],
   "source": [
    "ash[\"TAVG\"].median()"
   ]
  },
  {
   "cell_type": "markdown",
   "metadata": {},
   "source": [
    "### Combine the two datasets into one for generating charts"
   ]
  },
  {
   "cell_type": "code",
   "execution_count": 10,
   "metadata": {},
   "outputs": [],
   "source": [
    "datasets = [akron, ash]\n",
    "data = pd.concat(datasets)"
   ]
  },
  {
   "cell_type": "markdown",
   "metadata": {},
   "source": [
    "### Add station name and month name to datasets for charts"
   ]
  },
  {
   "cell_type": "code",
   "execution_count": 11,
   "metadata": {},
   "outputs": [],
   "source": [
    "data.loc[data[\"STATION\"]==\"USW00014895\",\"STATIONNAME\"] = \"Akron\"\n",
    "data.loc[data[\"STATION\"]==\"USW00003812\",\"STATIONNAME\"] = \"Asheville\"\n",
    "data[\"MONTH\"] = data[\"DATE\"].dt.month"
   ]
  },
  {
   "cell_type": "markdown",
   "metadata": {},
   "source": [
    "### Create boxplots"
   ]
  },
  {
   "cell_type": "code",
   "execution_count": 12,
   "metadata": {},
   "outputs": [
    {
     "data": {
      "text/plain": [
       "[Text(0, 0.5, 'Average Temperature'), Text(0.5, 0, 'Station')]"
      ]
     },
     "execution_count": 12,
     "metadata": {},
     "output_type": "execute_result"
    },
    {
     "data": {
      "image/png": "[encoded data removed]",
      "text/plain": [
       "<Figure size 432x288 with 1 Axes>"
      ]
     },
     "metadata": {},
     "output_type": "display_data"
    }
   ],
   "source": [
    "sns.set(palette=\"colorblind\")\n",
    "ax = sns.boxplot(x=\"STATIONNAME\", y=\"TAVG\", data=data)\n",
    "ax.set(xlabel=\"Station\", ylabel=\"Average Temperature\")"
   ]
  },
  {
   "cell_type": "code",
   "execution_count": 13,
   "metadata": {},
   "outputs": [
    {
     "data": {
      "text/plain": [
       "<matplotlib.legend.Legend at 0x7f032d51d0f0>"
      ]
     },
     "execution_count": 13,
     "metadata": {},
     "output_type": "execute_result"
    },
    {
     "data": {
      "image/png": "[encoded data removed]",
      "text/plain": [
       "<Figure size 720x360 with 1 Axes>"
      ]
     },
     "metadata": {},
     "output_type": "display_data"
    }
   ],
   "source": [
    "sns.set(palette=\"colorblind\")\n",
    "sns.set(rc={'figure.figsize':(10,5)})\n",
    "ax = sns.boxplot(x=\"MONTH\", y=\"TAVG\", hue=\"STATIONNAME\", data=data)\n",
    "ax.set(xlabel=\"Month\", ylabel=\"Average Temperature\")\n",
    "plt.legend(loc='upper left', )"
   ]
  },
  {
   "cell_type": "markdown",
   "metadata": {},
   "source": [
    "### Perform test\n",
    "Calculate the test statistic\n",
    "\n",
    "$z = \\frac{\\bar{x} - \\bar{y} - \\Delta_5} {\\sqrt{\\frac{\\sigma_1^2} {m} + \\frac{\\sigma_2^2} {n}}}$"
   ]
  },
  {
   "cell_type": "code",
   "execution_count": 14,
   "metadata": {},
   "outputs": [
    {
     "data": {
      "text/plain": [
       "-0.09089198363907022"
      ]
     },
     "execution_count": 14,
     "metadata": {},
     "output_type": "execute_result"
    }
   ],
   "source": [
    "(akron[\"TAVG\"].mean() - ash[\"TAVG\"].mean() + 5)/math.sqrt(\n",
    "    (akron[\"TAVG\"].var()/akron[\"TAVG\"].count()) + \n",
    "    (ash[\"TAVG\"].var()/ash[\"TAVG\"].count())\n",
    ")"
   ]
  },
  {
   "cell_type": "markdown",
   "metadata": {},
   "source": [
    "## Analysis of winter months"
   ]
  },
  {
   "cell_type": "markdown",
   "metadata": {},
   "source": [
    "### Create dataframes for winter months"
   ]
  },
  {
   "cell_type": "code",
   "execution_count": 15,
   "metadata": {},
   "outputs": [],
   "source": [
    "akronwinter = akron[akron[\"DATE\"].dt.month.isin([12, 1, 2])]\n",
    "ashwinter = ash[ash[\"DATE\"].dt.month.isin([12, 1, 2])]"
   ]
  },
  {
   "cell_type": "markdown",
   "metadata": {},
   "source": [
    "### Create descriptive statistics for winter months"
   ]
  },
  {
   "cell_type": "markdown",
   "metadata": {},
   "source": [
    "Akron"
   ]
  },
  {
   "cell_type": "code",
   "execution_count": 16,
   "metadata": {},
   "outputs": [
    {
     "data": {
      "text/plain": [
       "count    361.000000\n",
       "mean      29.700831\n",
       "std       13.163680\n",
       "min       -6.000000\n",
       "25%       20.000000\n",
       "50%       31.000000\n",
       "75%       39.000000\n",
       "max       63.000000\n",
       "Name: TAVG, dtype: float64"
      ]
     },
     "execution_count": 16,
     "metadata": {},
     "output_type": "execute_result"
    }
   ],
   "source": [
    "akronwinter[\"TAVG\"].describe()"
   ]
  },
  {
   "cell_type": "code",
   "execution_count": 17,
   "metadata": {},
   "outputs": [
    {
     "data": {
      "text/plain": [
       "31.0"
      ]
     },
     "execution_count": 17,
     "metadata": {},
     "output_type": "execute_result"
    }
   ],
   "source": [
    "akronwinter[\"TAVG\"].median()"
   ]
  },
  {
   "cell_type": "markdown",
   "metadata": {},
   "source": [
    "Asheville"
   ]
  },
  {
   "cell_type": "code",
   "execution_count": 18,
   "metadata": {},
   "outputs": [
    {
     "data": {
      "text/plain": [
       "count    361.000000\n",
       "mean      39.936288\n",
       "std       10.420004\n",
       "min        7.000000\n",
       "25%       33.000000\n",
       "50%       40.000000\n",
       "75%       48.000000\n",
       "max       64.000000\n",
       "Name: TAVG, dtype: float64"
      ]
     },
     "execution_count": 18,
     "metadata": {},
     "output_type": "execute_result"
    }
   ],
   "source": [
    "ashwinter[\"TAVG\"].describe()"
   ]
  },
  {
   "cell_type": "code",
   "execution_count": 19,
   "metadata": {},
   "outputs": [
    {
     "data": {
      "text/plain": [
       "40.0"
      ]
     },
     "execution_count": 19,
     "metadata": {},
     "output_type": "execute_result"
    }
   ],
   "source": [
    "ashwinter[\"TAVG\"].median()"
   ]
  },
  {
   "cell_type": "markdown",
   "metadata": {},
   "source": [
    "### Combine the two datasets into one for generating charts"
   ]
  },
  {
   "cell_type": "code",
   "execution_count": 20,
   "metadata": {},
   "outputs": [],
   "source": [
    "winterdatasets = [akronwinter, ashwinter]\n",
    "datawinter = pd.concat(winterdatasets)"
   ]
  },
  {
   "cell_type": "markdown",
   "metadata": {},
   "source": [
    "### Add fields for station name and month for charts"
   ]
  },
  {
   "cell_type": "code",
   "execution_count": 21,
   "metadata": {},
   "outputs": [],
   "source": [
    "datawinter.loc[datawinter[\"STATION\"]==\"USW00014895\",\"STATIONNAME\"] = \"Akron\"\n",
    "datawinter.loc[datawinter[\"STATION\"]==\"USW00003812\",\"STATIONNAME\"] = \"Asheville\"\n",
    "datawinter[\"MONTH\"] = datawinter[\"DATE\"].dt.month"
   ]
  },
  {
   "cell_type": "markdown",
   "metadata": {},
   "source": [
    "### Create winter boxplots"
   ]
  },
  {
   "cell_type": "code",
   "execution_count": 22,
   "metadata": {},
   "outputs": [
    {
     "data": {
      "text/plain": [
       "[Text(0, 0.5, 'Average Temperature'), Text(0.5, 0, 'Station')]"
      ]
     },
     "execution_count": 22,
     "metadata": {},
     "output_type": "execute_result"
    },
    {
     "data": {
      "image/png": "[encoded data removed]",
      "text/plain": [
       "<Figure size 720x360 with 1 Axes>"
      ]
     },
     "metadata": {},
     "output_type": "display_data"
    }
   ],
   "source": [
    "sns.set(palette=\"colorblind\")\n",
    "ax = sns.boxplot(x=\"STATIONNAME\", y=\"TAVG\", data=datawinter)\n",
    "ax.set(xlabel=\"Station\", ylabel=\"Average Temperature\")"
   ]
  },
  {
   "cell_type": "markdown",
   "metadata": {},
   "source": [
    "### Perform test for winter months\n",
    "Calculate the test statistic\n",
    "\n",
    "$z = \\frac{\\bar{x} - \\bar{y} - \\Delta_{-8}} {\\sqrt{\\frac{\\sigma_1^2} {m} + \\frac{\\sigma_2^2} {n}}}$"
   ]
  },
  {
   "cell_type": "code",
   "execution_count": 39,
   "metadata": {},
   "outputs": [
    {
     "data": {
      "text/plain": [
       "-2.529903837542386"
      ]
     },
     "execution_count": 39,
     "metadata": {},
     "output_type": "execute_result"
    }
   ],
   "source": [
    "(akronwinter[\"TAVG\"].mean() - ashwinter[\"TAVG\"].mean() + 8)/math.sqrt(\n",
    "    (akronwinter[\"TAVG\"].var()/akronwinter[\"TAVG\"].count()) + \n",
    "    (ashwinter[\"TAVG\"].var()/ashwinter[\"TAVG\"].count())\n",
    ")"
   ]
  },
  {
   "cell_type": "markdown",
   "metadata": {},
   "source": [
    "## Analysis of summer months"
   ]
  },
  {
   "cell_type": "markdown",
   "metadata": {},
   "source": [
    "### Create dataframes for summer months"
   ]
  },
  {
   "cell_type": "code",
   "execution_count": 24,
   "metadata": {},
   "outputs": [],
   "source": [
    "akronsummer = akron[akron[\"DATE\"].dt.month.isin([6,7,8])]\n",
    "ashsummer = ash[ash[\"DATE\"].dt.month.isin([6,7,8])]"
   ]
  },
  {
   "cell_type": "markdown",
   "metadata": {},
   "source": [
    "### Create descriptive statistics for summer months"
   ]
  },
  {
   "cell_type": "markdown",
   "metadata": {},
   "source": [
    "Akron"
   ]
  },
  {
   "cell_type": "code",
   "execution_count": 25,
   "metadata": {},
   "outputs": [
    {
     "data": {
      "text/plain": [
       "count    368.000000\n",
       "mean      71.774457\n",
       "std        5.222118\n",
       "min       50.000000\n",
       "25%       68.000000\n",
       "50%       72.000000\n",
       "75%       75.250000\n",
       "max       83.000000\n",
       "Name: TAVG, dtype: float64"
      ]
     },
     "execution_count": 25,
     "metadata": {},
     "output_type": "execute_result"
    }
   ],
   "source": [
    "akronsummer[\"TAVG\"].describe()"
   ]
  },
  {
   "cell_type": "code",
   "execution_count": 26,
   "metadata": {},
   "outputs": [
    {
     "data": {
      "text/plain": [
       "72.0"
      ]
     },
     "execution_count": 26,
     "metadata": {},
     "output_type": "execute_result"
    }
   ],
   "source": [
    "akronsummer[\"TAVG\"].median()"
   ]
  },
  {
   "cell_type": "markdown",
   "metadata": {},
   "source": [
    "Asheville"
   ]
  },
  {
   "cell_type": "code",
   "execution_count": 27,
   "metadata": {},
   "outputs": [
    {
     "data": {
      "text/plain": [
       "count    368.000000\n",
       "mean      72.633152\n",
       "std        3.276319\n",
       "min       64.000000\n",
       "25%       71.000000\n",
       "50%       73.000000\n",
       "75%       75.000000\n",
       "max       80.000000\n",
       "Name: TAVG, dtype: float64"
      ]
     },
     "execution_count": 27,
     "metadata": {},
     "output_type": "execute_result"
    }
   ],
   "source": [
    "ashsummer[\"TAVG\"].describe()"
   ]
  },
  {
   "cell_type": "code",
   "execution_count": 28,
   "metadata": {},
   "outputs": [
    {
     "data": {
      "text/plain": [
       "73.0"
      ]
     },
     "execution_count": 28,
     "metadata": {},
     "output_type": "execute_result"
    }
   ],
   "source": [
    "ashsummer[\"TAVG\"].median()"
   ]
  },
  {
   "cell_type": "markdown",
   "metadata": {},
   "source": [
    "### Combine the two datasets into one for generating charts"
   ]
  },
  {
   "cell_type": "code",
   "execution_count": 29,
   "metadata": {},
   "outputs": [],
   "source": [
    "summerdatasets = [akronsummer, ashsummer]\n",
    "datasummer = pd.concat(summerdatasets)"
   ]
  },
  {
   "cell_type": "markdown",
   "metadata": {},
   "source": [
    "### Add fields for stations name and month for charts"
   ]
  },
  {
   "cell_type": "code",
   "execution_count": 30,
   "metadata": {},
   "outputs": [],
   "source": [
    "datasummer.loc[datasummer[\"STATION\"]==\"USW00014895\",\"STATIONNAME\"] = \"Akron\"\n",
    "datasummer.loc[datasummer[\"STATION\"]==\"USW00003812\",\"STATIONNAME\"] = \"Asheville\"\n",
    "datasummer[\"MONTH\"] = datasummer[\"DATE\"].dt.month"
   ]
  },
  {
   "cell_type": "markdown",
   "metadata": {},
   "source": [
    "### Create summer boxplots"
   ]
  },
  {
   "cell_type": "code",
   "execution_count": 31,
   "metadata": {},
   "outputs": [
    {
     "data": {
      "text/plain": [
       "[Text(0, 0.5, 'Average Temperature'), Text(0.5, 0, 'Station')]"
      ]
     },
     "execution_count": 31,
     "metadata": {},
     "output_type": "execute_result"
    },
    {
     "data": {
      "image/png": "[encoded data removed]",
      "text/plain": [
       "<Figure size 720x360 with 1 Axes>"
      ]
     },
     "metadata": {},
     "output_type": "display_data"
    }
   ],
   "source": [
    "sns.set(palette=\"colorblind\")\n",
    "ax = sns.boxplot(x=\"STATIONNAME\", y=\"TAVG\", data=datasummer)\n",
    "ax.set(xlabel=\"Station\", ylabel=\"Average Temperature\")"
   ]
  },
  {
   "cell_type": "markdown",
   "metadata": {},
   "source": [
    "### Perform test for summer months\n",
    "Calculate test statistic\n",
    "\n",
    "$z = \\frac{\\bar{x} - \\bar{y} - \\Delta_{-2}} {\\sqrt{\\frac{\\sigma_1^2} {m} + \\frac{\\sigma_2^2} {n}}}$"
   ]
  },
  {
   "cell_type": "code",
   "execution_count": 37,
   "metadata": {},
   "outputs": [
    {
     "data": {
      "text/plain": [
       "3.5514544699869615"
      ]
     },
     "execution_count": 37,
     "metadata": {},
     "output_type": "execute_result"
    }
   ],
   "source": [
    "(akronsummer[\"TAVG\"].mean() - ashsummer[\"TAVG\"].mean() + 2)/math.sqrt(\n",
    "    (akronsummer[\"TAVG\"].var()/akronsummer[\"TAVG\"].count()) + \n",
    "    (ashsummer[\"TAVG\"].var()/ashsummer[\"TAVG\"].count())\n",
    ")"
   ]
  }
 ],
 "metadata": {
  "kernelspec": {
   "display_name": "Python 3.6",
   "language": "python",
   "name": "python36"
  },
  "language_info": {
   "codemirror_mode": {
    "name": "ipython",
    "version": 3
   },
   "file_extension": ".py",
   "mimetype": "text/x-python",
   "name": "python",
   "nbconvert_exporter": "python",
   "pygments_lexer": "ipython3",
   "version": "3.6.6"
  }
 },
 "nbformat": 4,
 "nbformat_minor": 2
}
